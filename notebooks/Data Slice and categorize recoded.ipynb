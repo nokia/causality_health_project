{
 "cells": [
  {
   "cell_type": "markdown",
   "id": "a6c8804c",
   "metadata": {},
   "source": [
    "# This code is written to split the raw signals from the MIT BIH sleep dataset into 30 second epochs. These epochs are then split further into 4 channels (ECG, BP, EEG and Resp)"
   ]
  },
  {
   "cell_type": "code",
   "execution_count": 1,
   "id": "4e8472ec",
   "metadata": {},
   "outputs": [],
   "source": [
    "from IPython.display import display\n",
    "import matplotlib.pyplot as plt\n",
    "import numpy as np\n",
    "import os\n",
    "import shutil\n",
    "import posixpath\n",
    "import wfdb\n",
    "import csv\n",
    "from scipy import signal\n",
    "import pandas as pd"
   ]
  },
  {
   "cell_type": "markdown",
   "id": "ca2bd9d8",
   "metadata": {},
   "source": [
    "Each individual slice/piece can be accessed by using obs1_split[i] where i = 1:240\n",
    "This pertains to subject 1. Similar sizes are calculated for each subject"
   ]
  },
  {
   "cell_type": "code",
   "execution_count": 2,
   "id": "5cc797a9",
   "metadata": {},
   "outputs": [],
   "source": [
    "fs = 250\n",
    "obs = wfdb.rdsamp('mit-bih-polysomnographic-database-1.0.0/slp67x')\n",
    "obs = obs[0]\n",
    "size = len(obs)/(fs*30)\n",
    "obs_split = np.split(obs,size)\n",
    "# 240 is derived by dividing the entire record by number of samples in a 30 second period (1800000/(250*30)) - \n",
    "# here Fs: 250 and each annotation duration is 30 seconds\n",
    "\n",
    "## Set this value based on the subject being used\n",
    "## For example: if I want to extract 5th subject's information then set sub = 5\n",
    "##(Since python's indexing starts from 0, I added the -1)\n",
    "sub = 18 - 1;"
   ]
  },
  {
   "cell_type": "code",
   "execution_count": 3,
   "id": "4507fde3",
   "metadata": {},
   "outputs": [
    {
     "data": {
      "text/plain": [
       "(7500, 7)"
      ]
     },
     "execution_count": 3,
     "metadata": {},
     "output_type": "execute_result"
    }
   ],
   "source": [
    "np.shape(obs_split[0])"
   ]
  },
  {
   "cell_type": "code",
   "execution_count": 4,
   "id": "204f9f52",
   "metadata": {},
   "outputs": [],
   "source": [
    "apnea_indicators = pd.read_excel('Annotations - No apnea recode\\processed_apnea_indicators recoded.xlsx')\n",
    "sleep_stages = pd.read_excel('Annotations - No apnea recode\\processed_sleep_stages recoded.xlsx')\n",
    "HA_indicators = pd.read_excel('Annotations - No apnea recode\\processed_HA_indicators recoded.xlsx')\n",
    "LA_indicators = pd.read_excel('Annotations - No apnea recode\\processed_LA_indicators recoded.xlsx')"
   ]
  },
  {
   "cell_type": "code",
   "execution_count": 5,
   "id": "cbf3b399",
   "metadata": {},
   "outputs": [],
   "source": [
    "# Splitting the apnea indicator array of observation 1 into individual annotations\n",
    "size = len(obs)/(fs*30)\n",
    "size = int(size)\n",
    "aei = [\"\" for i in range(size)]\n",
    "for i in range (size):\n",
    "    individual_aei = apnea_indicators.iloc[:,sub]\n",
    "    aei[i] = individual_aei[i]"
   ]
  },
  {
   "cell_type": "code",
   "execution_count": 6,
   "id": "06f635c4",
   "metadata": {},
   "outputs": [
    {
     "data": {
      "text/plain": [
       "154"
      ]
     },
     "execution_count": 6,
     "metadata": {},
     "output_type": "execute_result"
    }
   ],
   "source": [
    "size"
   ]
  },
  {
   "cell_type": "code",
   "execution_count": 7,
   "id": "ff7afc91",
   "metadata": {},
   "outputs": [
    {
     "data": {
      "text/plain": [
       "(780, 18)"
      ]
     },
     "execution_count": 7,
     "metadata": {},
     "output_type": "execute_result"
    }
   ],
   "source": [
    "np.shape(apnea_indicators)"
   ]
  },
  {
   "cell_type": "code",
   "execution_count": 8,
   "id": "ae7d211f",
   "metadata": {},
   "outputs": [],
   "source": [
    "ss = [\"\" for i in range(size)]\n",
    "for i in range(size):\n",
    "    individual_ss = sleep_stages.iloc[:,sub]\n",
    "    ss[i] = individual_ss[i]"
   ]
  },
  {
   "cell_type": "code",
   "execution_count": 9,
   "id": "6021478a",
   "metadata": {},
   "outputs": [],
   "source": [
    "hei = [\"\" for i in range(size)]\n",
    "for i in range(size):\n",
    "    individual_hei = HA_indicators.iloc[:,sub]\n",
    "    hei[i] = individual_hei[i]"
   ]
  },
  {
   "cell_type": "code",
   "execution_count": 10,
   "id": "d9c95995",
   "metadata": {},
   "outputs": [],
   "source": [
    "lei = [\"\" for i in range(size)]\n",
    "for i in range(size):\n",
    "    individual_lei = LA_indicators.iloc[:,sub]\n",
    "    lei[i] = individual_lei[i]"
   ]
  },
  {
   "cell_type": "markdown",
   "id": "39dc8fab",
   "metadata": {},
   "source": [
    "# Code to make a dataframe of ECG, Bp, EEG and resp amplitude data with their corresponding annotations"
   ]
  },
  {
   "cell_type": "code",
   "execution_count": 11,
   "id": "61742461",
   "metadata": {},
   "outputs": [
    {
     "name": "stdout",
     "output_type": "stream",
     "text": [
      "     SS Apnea_Indicator   HEI   LEI  \\\n",
      "0     1               X  NoHA  NoLA   \n",
      "1     1             NoA  NoHA  NoLA   \n",
      "2    W                X  NoHA  NoLA   \n",
      "3     1             NoA  NoHA  NoLA   \n",
      "4     1               X  NoHA  NoLA   \n",
      "..   ..             ...   ...   ...   \n",
      "149   W             NoA  NoHA  NoLA   \n",
      "150   W             NoA  NoHA  NoLA   \n",
      "151   W             NoA  NoHA  NoLA   \n",
      "152   W             NoA  NoHA  NoLA   \n",
      "153   W             NoA  NoHA  NoLA   \n",
      "\n",
      "                                              ECG_amps  \n",
      "0    [-0.032, -0.03, -0.038, -0.032, -0.028, -0.032...  \n",
      "1    [-0.04, -0.036, -0.04, -0.038, -0.034, -0.032,...  \n",
      "2    [-0.04, -0.044, -0.044, -0.04, -0.04, -0.042, ...  \n",
      "3    [0.072, 0.042, 0.03, 0.002, -0.008, -0.02, -0....  \n",
      "4    [-0.064, -0.062, -0.05, -0.052, -0.046, -0.054...  \n",
      "..                                                 ...  \n",
      "149  [-0.016, -0.012, -0.012, -0.008, -0.012, -0.00...  \n",
      "150  [0.0, 0.014, 0.016, 0.024, 0.024, 0.03, 0.044,...  \n",
      "151  [-0.032, -0.022, -0.008, -0.008, -0.01, -0.014...  \n",
      "152  [-0.048, -0.054, -0.05, -0.048, -0.054, -0.05,...  \n",
      "153  [-0.058, -0.054, -0.05, -0.04, -0.042, -0.056,...  \n",
      "\n",
      "[154 rows x 5 columns]\n"
     ]
    }
   ],
   "source": [
    "ECG = {\n",
    "    'SS': [ss[i] for i in range(size)],\n",
    "    'Apnea_Indicator' : [aei[i] for i in range (size)],\n",
    "    'HEI': [hei[i] for i in range(size)],\n",
    "    'LEI': [lei[i] for i in range(size)],\n",
    "    'ECG_amps': [obs_split[i][:,0] for i in range (size)] #obs_split[i][:,0] corresponds to ECG data.\n",
    "    # if we change [:,0] to [:,1] then it corresponds to BP. [:,2] for EEG and [:,3] for Resp\n",
    "}\n",
    "ECG = pd.DataFrame(ECG, columns = ['SS','Apnea_Indicator','HEI','LEI','ECG_amps'])\n",
    "print(ECG)"
   ]
  },
  {
   "cell_type": "code",
   "execution_count": 12,
   "id": "4a2d9f82",
   "metadata": {},
   "outputs": [
    {
     "name": "stdout",
     "output_type": "stream",
     "text": [
      "     SS Apnea_Indicator   HEI   LEI  \\\n",
      "0     1               X  NoHA  NoLA   \n",
      "1     1             NoA  NoHA  NoLA   \n",
      "2    W                X  NoHA  NoLA   \n",
      "3     1             NoA  NoHA  NoLA   \n",
      "4     1               X  NoHA  NoLA   \n",
      "..   ..             ...   ...   ...   \n",
      "149   W             NoA  NoHA  NoLA   \n",
      "150   W             NoA  NoHA  NoLA   \n",
      "151   W             NoA  NoHA  NoLA   \n",
      "152   W             NoA  NoHA  NoLA   \n",
      "153   W             NoA  NoHA  NoLA   \n",
      "\n",
      "                                               BP_amps  \n",
      "0    [80.09243624629136, 80.48060637349471, 80.4806...  \n",
      "1    [87.72644874795725, 86.30315828154497, 85.1386...  \n",
      "2    [81.77450679750588, 81.38633667030253, 80.8687...  \n",
      "3    [119.81517926343425, 119.16822905142865, 118.3...  \n",
      "4    [119.81517926343425, 117.61554854261526, 115.1...  \n",
      "..                                                 ...  \n",
      "149  [55.24954810527691, 55.24954810527691, 54.7319...  \n",
      "150  [77.50463539826902, 77.11646527106566, 76.5989...  \n",
      "151  [52.40296717245234, 52.1441870876501, 52.01479...  \n",
      "152  [90.4436396383807, 88.50278900236395, 86.17376...  \n",
      "153  [93.93717078321086, 91.73754006239187, 89.9260...  \n",
      "\n",
      "[154 rows x 5 columns]\n"
     ]
    }
   ],
   "source": [
    "BP = {\n",
    "    'SS': [ss[i] for i in range(size)],\n",
    "    'Apnea_Indicator' : [aei[i] for i in range (size)],\n",
    "    'HEI': [hei[i] for i in range(size)],\n",
    "    'LEI': [lei[i] for i in range(size)],\n",
    "    'BP_amps': [obs_split[i][:,1] for i in range (size)] #obs1_split[i][:,0] corresponds to ECG data.\n",
    "    # if we change [:,0] to [:,1] then it corresponds to BP. [:,2] for EEG and [:,3] for Resp\n",
    "}\n",
    "BP = pd.DataFrame(BP, columns = ['SS','Apnea_Indicator','HEI','LEI','BP_amps'])\n",
    "print(BP)"
   ]
  },
  {
   "cell_type": "code",
   "execution_count": 13,
   "id": "022dabf1",
   "metadata": {},
   "outputs": [
    {
     "name": "stdout",
     "output_type": "stream",
     "text": [
      "     SS Apnea_Indicator   HEI   LEI  \\\n",
      "0     1               X  NoHA  NoLA   \n",
      "1     1             NoA  NoHA  NoLA   \n",
      "2    W                X  NoHA  NoLA   \n",
      "3     1             NoA  NoHA  NoLA   \n",
      "4     1               X  NoHA  NoLA   \n",
      "..   ..             ...   ...   ...   \n",
      "149   W             NoA  NoHA  NoLA   \n",
      "150   W             NoA  NoHA  NoLA   \n",
      "151   W             NoA  NoHA  NoLA   \n",
      "152   W             NoA  NoHA  NoLA   \n",
      "153   W             NoA  NoHA  NoLA   \n",
      "\n",
      "                                              EEG_amps  \n",
      "0    [-0.04303115204130991, -0.040727781372432006, ...  \n",
      "1    [-0.011516853344389514, -0.018636362684557577,...  \n",
      "2    [-0.02805924269360354, -0.02764044802653483, -...  \n",
      "3    [-0.006910112006633708, -0.007328906673702417,...  \n",
      "4    [-0.006386618672797821, -0.005967824005729112,...  \n",
      "..                                                 ...  \n",
      "149  [-0.01842696535102322, -0.019159856018393463, ...  \n",
      "150  [-0.018322266684256044, -0.018322266684256044,...  \n",
      "151  [-0.010574565343484917, -0.015076608014473544,...  \n",
      "152  [-0.03748212270264951, -0.03182839469722193, -...  \n",
      "153  [-0.038110314703252574, -0.04617211204432523, ...  \n",
      "\n",
      "[154 rows x 5 columns]\n"
     ]
    }
   ],
   "source": [
    "EEG = {\n",
    "    'SS': [ss[i] for i in range(size)],\n",
    "    'Apnea_Indicator' : [aei[i] for i in range (size)],\n",
    "    'HEI': [hei[i] for i in range(size)],\n",
    "    'LEI': [lei[i] for i in range(size)],\n",
    "    'EEG_amps': [obs_split[i][:,2] for i in range (size)] #obs1_split[i][:,0] corresponds to ECG data.\n",
    "    # if we change [:,0] to [:,1] then it corresponds to BP. [:,2] for EEG and [:,3] for Resp\n",
    "}\n",
    "EEG = pd.DataFrame(EEG, columns = ['SS','Apnea_Indicator','HEI','LEI','EEG_amps'])\n",
    "print(EEG)"
   ]
  },
  {
   "cell_type": "code",
   "execution_count": 14,
   "id": "bc297216",
   "metadata": {
    "scrolled": true
   },
   "outputs": [
    {
     "name": "stdout",
     "output_type": "stream",
     "text": [
      "     SS Apnea_Indicator   HEI   LEI  \\\n",
      "0     1               X  NoHA  NoLA   \n",
      "1     1             NoA  NoHA  NoLA   \n",
      "2    W                X  NoHA  NoLA   \n",
      "3     1             NoA  NoHA  NoLA   \n",
      "4     1               X  NoHA  NoLA   \n",
      "..   ..             ...   ...   ...   \n",
      "149   W             NoA  NoHA  NoLA   \n",
      "150   W             NoA  NoHA  NoLA   \n",
      "151   W             NoA  NoHA  NoLA   \n",
      "152   W             NoA  NoHA  NoLA   \n",
      "153   W             NoA  NoHA  NoLA   \n",
      "\n",
      "                                             Resp_amps  \n",
      "0    [0.15778120717753197, 0.15778120717753197, 0.1...  \n",
      "1    [0.18198873485408482, 0.18458239853371547, 0.1...  \n",
      "2    [0.15345843437814752, 0.15345843437814752, 0.1...  \n",
      "3    [0.13616734318060977, 0.1353027886207329, 0.13...  \n",
      "4    [0.09380416974664228, 0.0899136742271963, 0.08...  \n",
      "..                                                 ...  \n",
      "149  [0.065273869270705, 0.0661384238305819, 0.0657...  \n",
      "150  [0.06095109647132057, 0.06051881919138212, 0.0...  \n",
      "151  [0.06311248287101279, 0.06311248287101279, 0.0...  \n",
      "152  [0.062247928311135896, 0.062247928311135896, 0...  \n",
      "153  [0.062247928311135896, 0.062247928311135896, 0...  \n",
      "\n",
      "[154 rows x 5 columns]\n"
     ]
    }
   ],
   "source": [
    "Resp = {\n",
    "    'SS': [ss[i] for i in range(size)],\n",
    "    'Apnea_Indicator' : [aei[i] for i in range (size)],\n",
    "    'HEI': [hei[i] for i in range(size)],\n",
    "    'LEI': [lei[i] for i in range(size)],\n",
    "    'Resp_amps': [obs_split[i][:,3] for i in range (size)] #obs1_split[i][:,0] corresponds to ECG data.\n",
    "    # if we change [:,0] to [:,1] then it corresponds to BP. [:,2] for EEG and [:,3] for Resp\n",
    "}\n",
    "Resp = pd.DataFrame(Resp, columns = ['SS','Apnea_Indicator','HEI','LEI','Resp_amps'])\n",
    "print(Resp)"
   ]
  },
  {
   "cell_type": "markdown",
   "id": "2c7c3f4d",
   "metadata": {},
   "source": [
    "# Extracting sub-band EEG power"
   ]
  },
  {
   "cell_type": "code",
   "execution_count": 15,
   "id": "fbc9df60",
   "metadata": {},
   "outputs": [],
   "source": [
    "# Sort the strings and remove whitespace\n",
    "#sort_var1 = ''.join(sorted(var1)).strip()\n",
    "#sort_var2 = ''.join(sorted(var2)).strip()"
   ]
  },
  {
   "cell_type": "code",
   "execution_count": 16,
   "id": "688cba91",
   "metadata": {},
   "outputs": [],
   "source": [
    "import mne\n",
    "from mne.datasets.sleep_physionet.age import fetch_data\n",
    "from mne.time_frequency import psd_welch\n",
    "\n",
    "from sklearn.ensemble import RandomForestClassifier\n",
    "from sklearn.metrics import accuracy_score\n",
    "from sklearn.metrics import confusion_matrix\n",
    "from sklearn.metrics import classification_report\n",
    "from sklearn.pipeline import make_pipeline\n",
    "from sklearn.preprocessing import FunctionTransformer"
   ]
  },
  {
   "cell_type": "code",
   "execution_count": 17,
   "id": "6eef8273",
   "metadata": {},
   "outputs": [],
   "source": [
    "# specific frequency bands - referred from Danielle and Faes (2014)\n",
    "bands = {\"delta\": [0.5, 3],\n",
    "                  \"theta\": [3, 8],\n",
    "                  \"alpha\": [8, 12],\n",
    "                  \"sigma\": [12, 16],\n",
    "                  \"beta\": [16, 25]}"
   ]
  },
  {
   "cell_type": "code",
   "execution_count": 18,
   "id": "6b1b32de",
   "metadata": {},
   "outputs": [],
   "source": [
    "PEEG = np.zeros([size,5],float)\n",
    "from scipy.signal import welch\n",
    "for j in range(size):\n",
    "    temp = EEG.EEG_amps[j]\n",
    "    f, psd = welch(temp, fs=250,nperseg=7500,noverlap=1875) #30% overelap - similar to Danielle and Faes (2014)\n",
    "    psd /= np.sum(psd, axis=-1, keepdims=True) #Normalizing the PSD\n",
    "    i = 0\n",
    "    psds_band = np.zeros(5,float) #Initiating an empty array to contain the power for each band\n",
    "    for fmin, fmax in bands.values():\n",
    "            psds_band[i] = psd[(f >= fmin) & (f < fmax)].mean(axis=-1)\n",
    "            PEEG[j,i] = psds_band[i]\n",
    "            i = i+1"
   ]
  },
  {
   "cell_type": "code",
   "execution_count": 19,
   "id": "b8f4d9aa",
   "metadata": {},
   "outputs": [],
   "source": [
    "PEEGd = PEEG[:,0]\n",
    "PEEGt = PEEG[:,1]\n",
    "PEEGa = PEEG[:,2]\n",
    "PEEGs = PEEG[:,3]\n",
    "PEEGb = PEEG[:,4]"
   ]
  },
  {
   "cell_type": "markdown",
   "id": "087a1997",
   "metadata": {},
   "source": [
    "# ECG Feature extraction - incomplete"
   ]
  },
  {
   "cell_type": "code",
   "execution_count": 20,
   "id": "f5cdf0cc",
   "metadata": {},
   "outputs": [],
   "source": [
    "#from ecgdetectors import Detectors\n",
    "#detectors = Detectors(fs)"
   ]
  },
  {
   "cell_type": "code",
   "execution_count": 21,
   "id": "e21e4ad9",
   "metadata": {},
   "outputs": [],
   "source": [
    "#r_peaks = detectors.pan_tompkins_detector(ECG1.ECG_amps[0]) #https://github.com/berndporr/py-ecg-detectors"
   ]
  },
  {
   "cell_type": "code",
   "execution_count": 22,
   "id": "be316d12",
   "metadata": {},
   "outputs": [],
   "source": [
    "# specific frequency bands - referred from Danielle and Faes (2014)\n",
    "ECG_bands = {\"HF\": [0.15, 0.4],\n",
    "                  \"LF\": [0.04,0.4]\n",
    "        }"
   ]
  },
  {
   "cell_type": "code",
   "execution_count": 23,
   "id": "926cc9ff",
   "metadata": {},
   "outputs": [],
   "source": [
    "PECG = np.zeros([size,2],float)\n",
    "from scipy.signal import welch\n",
    "for j in range(size):\n",
    "    temp = ECG.ECG_amps[j]\n",
    "    f, psd = welch(temp, fs=250,nperseg=7500,noverlap=1875) #50% overelap - similar to Danielle and Faes (2014)\n",
    "    psd /= np.sum(psd, axis=-1, keepdims=True) #Normalizing the PSD\n",
    "    i = 0\n",
    "    ECG_psds_band = np.zeros(2,float) #Initiating an empty array to contain the power for each band\n",
    "    for fmin, fmax in ECG_bands.values():\n",
    "            ECG_psds_band[i] = psd[(f >= fmin) & (f < fmax)].mean(axis=-1)\n",
    "            PECG[j,i] = ECG_psds_band[i]\n",
    "            i = i+1"
   ]
  },
  {
   "cell_type": "code",
   "execution_count": 24,
   "id": "4c17a6e8",
   "metadata": {},
   "outputs": [],
   "source": [
    "PECG_HF = PECG[:,0]\n",
    "PECG_LF = PECG[:,1]"
   ]
  },
  {
   "cell_type": "code",
   "execution_count": 25,
   "id": "d0e594d7",
   "metadata": {},
   "outputs": [
    {
     "data": {
      "text/plain": [
       "(154,)"
      ]
     },
     "execution_count": 25,
     "metadata": {},
     "output_type": "execute_result"
    }
   ],
   "source": [
    "np.shape(PECG_HF)"
   ]
  },
  {
   "cell_type": "markdown",
   "id": "0c9bdfdc",
   "metadata": {},
   "source": [
    "# Breathing rate and BPM detection using ECG\n",
    "### additional measurements can also be computed using this package (heartpy) , if needed"
   ]
  },
  {
   "cell_type": "code",
   "execution_count": 26,
   "id": "e1f03940",
   "metadata": {},
   "outputs": [],
   "source": [
    "import heartpy as hp\n",
    "BR = np.zeros(size,'float')\n",
    "BPM = np.zeros(size,'float')\n",
    "for j in range(size):\n",
    "    data = ECG.ECG_amps[j]\n",
    "    fs = 250\n",
    "    working_data, measures = hp.process(data, fs)\n",
    "    BR[j] = measures['breathingrate']\n",
    "    BPM[j] = measures['bpm']"
   ]
  },
  {
   "cell_type": "code",
   "execution_count": 27,
   "id": "863a25de",
   "metadata": {},
   "outputs": [
    {
     "data": {
      "text/plain": [
       "{'bpm': 83.90177353342429,\n",
       " 'ibi': 715.1219512195122,\n",
       " 'sdnn': 27.294415690760985,\n",
       " 'sdsd': 7.8255990186055415,\n",
       " 'rmssd': 12.231107881136523,\n",
       " 'pnn20': 0.1,\n",
       " 'pnn50': 0.0,\n",
       " 'hr_mad': 20.0,\n",
       " 'sd1': 8.644073113989723,\n",
       " 'sd2': 38.0525951808809,\n",
       " 's': 1033.3622334641066,\n",
       " 'sd1/sd2': 0.22716119814957694,\n",
       " 'breathingrate': 0.1364256480218281}"
      ]
     },
     "execution_count": 27,
     "metadata": {},
     "output_type": "execute_result"
    }
   ],
   "source": [
    "measures"
   ]
  },
  {
   "cell_type": "markdown",
   "id": "524fe8ce",
   "metadata": {},
   "source": [
    "## Computing AUC respiration"
   ]
  },
  {
   "cell_type": "code",
   "execution_count": 28,
   "id": "a7b62197",
   "metadata": {},
   "outputs": [],
   "source": [
    "# Using the trapezoidal rule np.trapz\n",
    "#x = [i+1 for i in range(7500)] - checked it, the AUC with or without x is the same\n",
    "AUC = np.zeros(size,'float')\n",
    "for i in range(size):\n",
    "    AUC[i] = np.trapz(Resp['Resp_amps'][i])"
   ]
  },
  {
   "cell_type": "markdown",
   "id": "857045f1",
   "metadata": {},
   "source": [
    "## Splitting each of the annotation string into corresponding 30 second bits"
   ]
  },
  {
   "cell_type": "code",
   "execution_count": 29,
   "id": "6d7c23a8",
   "metadata": {},
   "outputs": [],
   "source": [
    "ss_split = [0 for i in range(size)]\n",
    "for i in range (size):\n",
    "    temp = str(ss[i])\n",
    "    ss_split[i] = str.split(temp)"
   ]
  },
  {
   "cell_type": "code",
   "execution_count": 30,
   "id": "2f01de3b",
   "metadata": {},
   "outputs": [],
   "source": [
    "aei_split = [0 for i in range(size)]\n",
    "for i in range (size):\n",
    "    temp = str(aei[i])\n",
    "    aei_split[i] = str.split(temp)"
   ]
  },
  {
   "cell_type": "code",
   "execution_count": 31,
   "id": "2a5923a3",
   "metadata": {},
   "outputs": [],
   "source": [
    "hei_split = [0 for i in range(size)]\n",
    "for i in range (size):\n",
    "    temp = str(hei[i])\n",
    "    hei_split[i] = str.split(temp)"
   ]
  },
  {
   "cell_type": "code",
   "execution_count": 32,
   "id": "a6d401c4",
   "metadata": {},
   "outputs": [],
   "source": [
    "lei_split = [0 for i in range(size)]\n",
    "for i in range (size):\n",
    "    temp = str(lei[i])\n",
    "    lei_split[i] = str.split(temp)"
   ]
  },
  {
   "cell_type": "code",
   "execution_count": 33,
   "id": "2276238a",
   "metadata": {},
   "outputs": [],
   "source": [
    "SS = pd.DataFrame(columns=['SS'], data=ss_split)\n",
    "AEI = pd.DataFrame(columns=['AEI'], data=aei_split)\n",
    "HEI = pd.DataFrame(columns=['HEI'], data=hei_split)\n",
    "LEI = pd.DataFrame(columns=['LEI'], data=lei_split)\n",
    "AUC = pd.DataFrame(columns=['AUC'], data = AUC)"
   ]
  },
  {
   "cell_type": "markdown",
   "id": "966d0264",
   "metadata": {},
   "source": [
    "## Integrating all the extracted features into a pandas df for easy access"
   ]
  },
  {
   "cell_type": "code",
   "execution_count": 34,
   "id": "47d734d9",
   "metadata": {},
   "outputs": [],
   "source": [
    "### Change Subj1 to appropriate value"
   ]
  },
  {
   "cell_type": "code",
   "execution_count": 35,
   "id": "26ec89c4",
   "metadata": {},
   "outputs": [
    {
     "name": "stdout",
     "output_type": "stream",
     "text": [
      "    SS  AEI   HEI   LEI     PEEGd     PEEGt     PEEGa     PEEGs     PEEGb  \\\n",
      "0    1    X  NoHA  NoLA  0.005613  0.000849  0.000446  0.000187  0.000084   \n",
      "1    1  NoA  NoHA  NoLA  0.002448  0.000810  0.000427  0.000175  0.000099   \n",
      "2    W    X  NoHA  NoLA  0.006164  0.000409  0.000234  0.000143  0.000069   \n",
      "3    1  NoA  NoHA  NoLA  0.002447  0.000919  0.000361  0.000230  0.000128   \n",
      "4    1    X  NoHA  NoLA  0.002632  0.001171  0.000388  0.000268  0.000152   \n",
      "..  ..  ...   ...   ...       ...       ...       ...       ...       ...   \n",
      "149  W  NoA  NoHA  NoLA  0.001806  0.000759  0.001240  0.000318  0.000149   \n",
      "150  W  NoA  NoHA  NoLA  0.001120  0.000763  0.002304  0.000345  0.000165   \n",
      "151  W  NoA  NoHA  NoLA  0.003564  0.000232  0.000260  0.000090  0.000054   \n",
      "152  W  NoA  NoHA  NoLA  0.004009  0.000246  0.000087  0.000072  0.000050   \n",
      "153  W  NoA  NoHA  NoLA  0.005996  0.000334  0.000115  0.000074  0.000064   \n",
      "\n",
      "      PECG_HF   PECG_LF        BR        BPM     AUC_Resp  \n",
      "0    0.000067  0.000050  0.239202  71.760525  1122.036847  \n",
      "1    0.000009  0.000011  0.205846  63.812268  1161.946415  \n",
      "2    0.000028  0.000026  0.136407  77.752012  1097.607994  \n",
      "3    0.000026  0.000023  0.206299  72.204649  1268.451540  \n",
      "4    0.000015  0.000011  0.207326  70.490670  1071.943475  \n",
      "..        ...       ...       ...        ...          ...  \n",
      "149  0.000006  0.000006  0.209996  71.398572   469.047218  \n",
      "150  0.000008  0.000009  0.201369  68.465566   465.861766  \n",
      "151  0.000020  0.000018  0.139470  73.221757   467.104996  \n",
      "152  0.000016  0.000018  0.238745  79.809004   466.742315  \n",
      "153  0.000200  0.000200  0.136426  83.901774   466.136262  \n",
      "\n",
      "[154 rows x 14 columns]\n",
      "Stored 'Subj' (DataFrame)\n"
     ]
    }
   ],
   "source": [
    "Subj = {\n",
    "    'SS' : SS['SS'],\n",
    "    'AEI' : AEI['AEI'],\n",
    "    'HEI' : HEI['HEI'],\n",
    "    'LEI' : LEI['LEI'],\n",
    "    'PEEGd': PEEGd, \n",
    "    'PEEGt': PEEGt,\n",
    "    'PEEGa': PEEGa,\n",
    "    'PEEGs': PEEGs,\n",
    "    'PEEGb': PEEGb,\n",
    "    'PECG_HF': PECG_HF,\n",
    "    'PECG_LF': PECG_LF,\n",
    "    'BR': BR,\n",
    "    'BPM': BPM,\n",
    "    'AUC_Resp':AUC['AUC']\n",
    "}\n",
    "Subj = pd.DataFrame(Subj, columns = ['SS','AEI','HEI','LEI','PEEGd','PEEGt','PEEGa','PEEGs','PEEGb','PECG_HF','PECG_LF','BR','BPM','AUC_Resp'])\n",
    "print(Subj)\n",
    "%store Subj"
   ]
  },
  {
   "cell_type": "code",
   "execution_count": 36,
   "id": "f948be4d",
   "metadata": {},
   "outputs": [
    {
     "data": {
      "text/plain": [
       "<rpy2.rinterface_lib.sexp.NULLType object at 0x000001FE4B71BA40> [RTYPES.NILSXP]"
      ]
     },
     "execution_count": 36,
     "metadata": {},
     "output_type": "execute_result"
    }
   ],
   "source": [
    "from rpy2.robjects import pandas2ri\n",
    "pandas2ri.activate()\n",
    "\n",
    "from rpy2.robjects.packages import importr\n",
    "\n",
    "base = importr('base')\n",
    "# call an R function on a Pandas DataFrame\n",
    "base.summary(Subj)\n",
    "\n",
    "from rpy2.robjects import pandas2ri\n",
    "import rpy2.robjects as robjects\n",
    "## get a reference to the R function \n",
    "write_csv = robjects.r('write.csv')\n",
    "## save \n",
    "write_csv(Subj,'ExportedS18recoded.csv')"
   ]
  }
 ],
 "metadata": {
  "kernelspec": {
   "display_name": "Python 3",
   "language": "python",
   "name": "python3"
  },
  "language_info": {
   "codemirror_mode": {
    "name": "ipython",
    "version": 3
   },
   "file_extension": ".py",
   "mimetype": "text/x-python",
   "name": "python",
   "nbconvert_exporter": "python",
   "pygments_lexer": "ipython3",
   "version": "3.8.8"
  }
 },
 "nbformat": 4,
 "nbformat_minor": 5
}
